{
  "nbformat": 4,
  "nbformat_minor": 0,
  "metadata": {
    "colab": {
      "provenance": []
    },
    "kernelspec": {
      "name": "python3",
      "display_name": "Python 3"
    },
    "language_info": {
      "name": "python"
    }
  },
  "cells": [
    {
      "cell_type": "markdown",
      "source": [],
      "metadata": {
        "id": "g8M7eMzzhv6I"
      }
    },
    {
      "cell_type": "code",
      "source": [
        "import altair as alt\n",
        "import pandas as pd\n",
        "from IPython.display import HTML\n",
        "\n",
        "# Crear un DataFrame con los datos proporcionados\n",
        "data = {\n",
        "    \"Región\": [\"Arica y Parinacota\", \"Antofagasta\", \"Atacama\", \"Coquimbo\", \"Valparaíso\", \"Metropolitana\",\n",
        "               \"O'Higgins\", \"Maule\", \"Ñuble\", \"Biobío\", \"La Araucanía\", \"Los Ríos\", \"Los Lagos\", \"Aysén\",\n",
        "               \"Magallanes y Antártica\", \"Ignorada\"],\n",
        "    \"Venezuela\": [0.5, 1.8, 0.6, 2.1, 6.6, 59.6, 2.8, 2.9, 0.9, 3.4, 1.1, 0.5, 2.2, 0.1, 0.5, 13.2],\n",
        "    \"Otras Nacionalidades\": [2.6, 9.2, 1.6, 2.3, 5.9, 56.9, 2.9, 2.4, 0.7, 1.7, 1.5, 0.5, 1.6, 0.3, 0.7, 3]\n",
        "}\n",
        "df = pd.DataFrame(data)\n",
        "\n",
        "\n",
        "# Convertir los datos de 'Región' en formato largo (long) para usarlos en el gráfico\n",
        "df_long = df.melt(id_vars='Región', var_name='Nacionalidad', value_name='Número de Inmigrantes')\n",
        "\n",
        "# Crear el gráfico de barras\n",
        "chart = alt.Chart(df_long).mark_bar().encode(\n",
        "    x=alt.X(\"Nacionalidad:N\", title=None),\n",
        "    y=alt.Y(\"sum(Número de Inmigrantes):Q\", title=\"Número de Inmigrantes\"),\n",
        "    color=alt.Color(\"Nacionalidad:N\", scale=alt.Scale(domain=[\"Venezuela\", \"Otras Nacionalidades\"], range=['#1f77b4', '#ff7f0e'])),\n",
        "    column='Región:N'\n",
        ").properties(\n",
        "    title=\"Comparación de inmigrantes por región: Venezuela vs Otras Nacionalidades\",\n",
        "    width=60\n",
        ").configure_axis(\n",
        "    labelFontSize=13,\n",
        "    titleFontSize=14\n",
        ")\n",
        "\n",
        "# Renderizar el gráfico como HTML\n",
        "html_chart = chart.to_html()\n",
        "\n",
        "# Mostrar el gráfico en la salida de la celda\n",
        "HTML(html_chart)\n",
        "\n"
      ],
      "metadata": {
        "colab": {
          "base_uri": "https://localhost:8080/",
          "height": 533
        },
        "id": "wAXTRXgC1CWI",
        "outputId": "7bc4b9e4-ff58-43bd-c79f-71583de4e778"
      },
      "execution_count": 35,
      "outputs": [
        {
          "output_type": "execute_result",
          "data": {
            "text/plain": [
              "<IPython.core.display.HTML object>"
            ],
            "text/html": [
              "<!DOCTYPE html>\n",
              "<html>\n",
              "<head>\n",
              "  <style>\n",
              "    .error {\n",
              "        color: red;\n",
              "    }\n",
              "  </style>\n",
              "  <script type=\"text/javascript\" src=\"https://cdn.jsdelivr.net/npm//vega@5\"></script>\n",
              "  <script type=\"text/javascript\" src=\"https://cdn.jsdelivr.net/npm//vega-lite@4.17.0\"></script>\n",
              "  <script type=\"text/javascript\" src=\"https://cdn.jsdelivr.net/npm//vega-embed@6\"></script>\n",
              "</head>\n",
              "<body>\n",
              "  <div id=\"vis\"></div>\n",
              "  <script>\n",
              "    (function(vegaEmbed) {\n",
              "      var spec = {\"config\": {\"view\": {\"continuousWidth\": 400, \"continuousHeight\": 300}, \"axis\": {\"labelFontSize\": 13, \"titleFontSize\": 14}}, \"data\": {\"name\": \"data-5e08135467229990414ff81d072a9e45\"}, \"mark\": \"bar\", \"encoding\": {\"color\": {\"field\": \"Nacionalidad\", \"scale\": {\"domain\": [\"Venezuela\", \"Otras Nacionalidades\"], \"range\": [\"#1f77b4\", \"#ff7f0e\"]}, \"type\": \"nominal\"}, \"column\": {\"field\": \"Regi\\u00f3n\", \"type\": \"nominal\"}, \"x\": {\"field\": \"Nacionalidad\", \"title\": null, \"type\": \"nominal\"}, \"y\": {\"aggregate\": \"sum\", \"field\": \"N\\u00famero de Inmigrantes\", \"title\": \"N\\u00famero de Inmigrantes\", \"type\": \"quantitative\"}}, \"title\": \"Comparaci\\u00f3n de inmigrantes por regi\\u00f3n: Venezuela vs Otras Nacionalidades\", \"width\": 60, \"$schema\": \"https://vega.github.io/schema/vega-lite/v4.17.0.json\", \"datasets\": {\"data-5e08135467229990414ff81d072a9e45\": [{\"Regi\\u00f3n\": \"Arica y Parinacota\", \"Nacionalidad\": \"Venezuela\", \"N\\u00famero de Inmigrantes\": 0.5}, {\"Regi\\u00f3n\": \"Antofagasta\", \"Nacionalidad\": \"Venezuela\", \"N\\u00famero de Inmigrantes\": 1.8}, {\"Regi\\u00f3n\": \"Atacama\", \"Nacionalidad\": \"Venezuela\", \"N\\u00famero de Inmigrantes\": 0.6}, {\"Regi\\u00f3n\": \"Coquimbo\", \"Nacionalidad\": \"Venezuela\", \"N\\u00famero de Inmigrantes\": 2.1}, {\"Regi\\u00f3n\": \"Valpara\\u00edso\", \"Nacionalidad\": \"Venezuela\", \"N\\u00famero de Inmigrantes\": 6.6}, {\"Regi\\u00f3n\": \"Metropolitana\", \"Nacionalidad\": \"Venezuela\", \"N\\u00famero de Inmigrantes\": 59.6}, {\"Regi\\u00f3n\": \"O'Higgins\", \"Nacionalidad\": \"Venezuela\", \"N\\u00famero de Inmigrantes\": 2.8}, {\"Regi\\u00f3n\": \"Maule\", \"Nacionalidad\": \"Venezuela\", \"N\\u00famero de Inmigrantes\": 2.9}, {\"Regi\\u00f3n\": \"\\u00d1uble\", \"Nacionalidad\": \"Venezuela\", \"N\\u00famero de Inmigrantes\": 0.9}, {\"Regi\\u00f3n\": \"Biob\\u00edo\", \"Nacionalidad\": \"Venezuela\", \"N\\u00famero de Inmigrantes\": 3.4}, {\"Regi\\u00f3n\": \"La Araucan\\u00eda\", \"Nacionalidad\": \"Venezuela\", \"N\\u00famero de Inmigrantes\": 1.1}, {\"Regi\\u00f3n\": \"Los R\\u00edos\", \"Nacionalidad\": \"Venezuela\", \"N\\u00famero de Inmigrantes\": 0.5}, {\"Regi\\u00f3n\": \"Los Lagos\", \"Nacionalidad\": \"Venezuela\", \"N\\u00famero de Inmigrantes\": 2.2}, {\"Regi\\u00f3n\": \"Ays\\u00e9n\", \"Nacionalidad\": \"Venezuela\", \"N\\u00famero de Inmigrantes\": 0.1}, {\"Regi\\u00f3n\": \"Magallanes y Ant\\u00e1rtica\", \"Nacionalidad\": \"Venezuela\", \"N\\u00famero de Inmigrantes\": 0.5}, {\"Regi\\u00f3n\": \"Ignorada\", \"Nacionalidad\": \"Venezuela\", \"N\\u00famero de Inmigrantes\": 13.2}, {\"Regi\\u00f3n\": \"Arica y Parinacota\", \"Nacionalidad\": \"Otras Nacionalidades\", \"N\\u00famero de Inmigrantes\": 2.6}, {\"Regi\\u00f3n\": \"Antofagasta\", \"Nacionalidad\": \"Otras Nacionalidades\", \"N\\u00famero de Inmigrantes\": 9.2}, {\"Regi\\u00f3n\": \"Atacama\", \"Nacionalidad\": \"Otras Nacionalidades\", \"N\\u00famero de Inmigrantes\": 1.6}, {\"Regi\\u00f3n\": \"Coquimbo\", \"Nacionalidad\": \"Otras Nacionalidades\", \"N\\u00famero de Inmigrantes\": 2.3}, {\"Regi\\u00f3n\": \"Valpara\\u00edso\", \"Nacionalidad\": \"Otras Nacionalidades\", \"N\\u00famero de Inmigrantes\": 5.9}, {\"Regi\\u00f3n\": \"Metropolitana\", \"Nacionalidad\": \"Otras Nacionalidades\", \"N\\u00famero de Inmigrantes\": 56.9}, {\"Regi\\u00f3n\": \"O'Higgins\", \"Nacionalidad\": \"Otras Nacionalidades\", \"N\\u00famero de Inmigrantes\": 2.9}, {\"Regi\\u00f3n\": \"Maule\", \"Nacionalidad\": \"Otras Nacionalidades\", \"N\\u00famero de Inmigrantes\": 2.4}, {\"Regi\\u00f3n\": \"\\u00d1uble\", \"Nacionalidad\": \"Otras Nacionalidades\", \"N\\u00famero de Inmigrantes\": 0.7}, {\"Regi\\u00f3n\": \"Biob\\u00edo\", \"Nacionalidad\": \"Otras Nacionalidades\", \"N\\u00famero de Inmigrantes\": 1.7}, {\"Regi\\u00f3n\": \"La Araucan\\u00eda\", \"Nacionalidad\": \"Otras Nacionalidades\", \"N\\u00famero de Inmigrantes\": 1.5}, {\"Regi\\u00f3n\": \"Los R\\u00edos\", \"Nacionalidad\": \"Otras Nacionalidades\", \"N\\u00famero de Inmigrantes\": 0.5}, {\"Regi\\u00f3n\": \"Los Lagos\", \"Nacionalidad\": \"Otras Nacionalidades\", \"N\\u00famero de Inmigrantes\": 1.6}, {\"Regi\\u00f3n\": \"Ays\\u00e9n\", \"Nacionalidad\": \"Otras Nacionalidades\", \"N\\u00famero de Inmigrantes\": 0.3}, {\"Regi\\u00f3n\": \"Magallanes y Ant\\u00e1rtica\", \"Nacionalidad\": \"Otras Nacionalidades\", \"N\\u00famero de Inmigrantes\": 0.7}, {\"Regi\\u00f3n\": \"Ignorada\", \"Nacionalidad\": \"Otras Nacionalidades\", \"N\\u00famero de Inmigrantes\": 3.0}]}};\n",
              "      var embedOpt = {\"mode\": \"vega-lite\"};\n",
              "\n",
              "      function showError(el, error){\n",
              "          el.innerHTML = ('<div class=\"error\" style=\"color:red;\">'\n",
              "                          + '<p>JavaScript Error: ' + error.message + '</p>'\n",
              "                          + \"<p>This usually means there's a typo in your chart specification. \"\n",
              "                          + \"See the javascript console for the full traceback.</p>\"\n",
              "                          + '</div>');\n",
              "          throw error;\n",
              "      }\n",
              "      const el = document.getElementById('vis');\n",
              "      vegaEmbed(\"#vis\", spec, embedOpt)\n",
              "        .catch(error => showError(el, error));\n",
              "    })(vegaEmbed);\n",
              "\n",
              "  </script>\n",
              "</body>\n",
              "</html>"
            ]
          },
          "metadata": {},
          "execution_count": 35
        }
      ]
    },
    {
      "cell_type": "code",
      "source": [
        "import pandas as pd\n",
        "import altair as alt\n",
        "\n",
        "# Crear un DataFrame con los datos\n",
        "datos = {\n",
        "    'Pais': ['Colombia', 'Perú', 'Brasil', 'Chile', 'Ecuador', 'Argentina', 'Rep. Dominicana', 'México', 'Panamá', 'Uruguay'],\n",
        "    'Total': [2875528, 1542004, 568058, 532715, 444778, 164024, 438380, 124041, 113108, 58158]\n",
        "}\n",
        "\n",
        "df = pd.DataFrame(datos)\n",
        "\n",
        "# Ordenar el DataFrame por el número total de emigrantes\n",
        "df = df.sort_values(by='Total', ascending=False)\n",
        "\n",
        "# Crear el gráfico de barras horizontal\n",
        "grafico = alt.Chart(df).mark_bar().encode(\n",
        "    x='Total:Q',\n",
        "    y=alt.Y('Pais:N', sort='-x'),  # Ordenar los países por el número de emigrantes\n",
        "    tooltip=['Pais:N', 'Total:Q']   # Mostrar tooltips con información adicional\n",
        ").properties(\n",
        "    width=600,\n",
        "    height=alt.Step(20)  # Ajustar la altura de las barras\n",
        ")\n",
        "\n",
        "grafico.save('grafico_emigrantes.html')  # Guardar el gráfico en un archivo HTML\n",
        "\n",
        "# Mostrar el gráfico\n",
        "grafico.display()\n"
      ],
      "metadata": {
        "colab": {
          "base_uri": "https://localhost:8080/",
          "height": 263
        },
        "id": "UK1aJQgt4ICf",
        "outputId": "828f3d48-c786-4ab1-e81b-62fbd7c712e3"
      },
      "execution_count": 37,
      "outputs": [
        {
          "output_type": "display_data",
          "data": {
            "text/html": [
              "\n",
              "<div id=\"altair-viz-3d809d44b2124372ae68de1d84d26756\"></div>\n",
              "<script type=\"text/javascript\">\n",
              "  var VEGA_DEBUG = (typeof VEGA_DEBUG == \"undefined\") ? {} : VEGA_DEBUG;\n",
              "  (function(spec, embedOpt){\n",
              "    let outputDiv = document.currentScript.previousElementSibling;\n",
              "    if (outputDiv.id !== \"altair-viz-3d809d44b2124372ae68de1d84d26756\") {\n",
              "      outputDiv = document.getElementById(\"altair-viz-3d809d44b2124372ae68de1d84d26756\");\n",
              "    }\n",
              "    const paths = {\n",
              "      \"vega\": \"https://cdn.jsdelivr.net/npm//vega@5?noext\",\n",
              "      \"vega-lib\": \"https://cdn.jsdelivr.net/npm//vega-lib?noext\",\n",
              "      \"vega-lite\": \"https://cdn.jsdelivr.net/npm//vega-lite@4.17.0?noext\",\n",
              "      \"vega-embed\": \"https://cdn.jsdelivr.net/npm//vega-embed@6?noext\",\n",
              "    };\n",
              "\n",
              "    function maybeLoadScript(lib, version) {\n",
              "      var key = `${lib.replace(\"-\", \"\")}_version`;\n",
              "      return (VEGA_DEBUG[key] == version) ?\n",
              "        Promise.resolve(paths[lib]) :\n",
              "        new Promise(function(resolve, reject) {\n",
              "          var s = document.createElement('script');\n",
              "          document.getElementsByTagName(\"head\")[0].appendChild(s);\n",
              "          s.async = true;\n",
              "          s.onload = () => {\n",
              "            VEGA_DEBUG[key] = version;\n",
              "            return resolve(paths[lib]);\n",
              "          };\n",
              "          s.onerror = () => reject(`Error loading script: ${paths[lib]}`);\n",
              "          s.src = paths[lib];\n",
              "        });\n",
              "    }\n",
              "\n",
              "    function showError(err) {\n",
              "      outputDiv.innerHTML = `<div class=\"error\" style=\"color:red;\">${err}</div>`;\n",
              "      throw err;\n",
              "    }\n",
              "\n",
              "    function displayChart(vegaEmbed) {\n",
              "      vegaEmbed(outputDiv, spec, embedOpt)\n",
              "        .catch(err => showError(`Javascript Error: ${err.message}<br>This usually means there's a typo in your chart specification. See the javascript console for the full traceback.`));\n",
              "    }\n",
              "\n",
              "    if(typeof define === \"function\" && define.amd) {\n",
              "      requirejs.config({paths});\n",
              "      require([\"vega-embed\"], displayChart, err => showError(`Error loading script: ${err.message}`));\n",
              "    } else {\n",
              "      maybeLoadScript(\"vega\", \"5\")\n",
              "        .then(() => maybeLoadScript(\"vega-lite\", \"4.17.0\"))\n",
              "        .then(() => maybeLoadScript(\"vega-embed\", \"6\"))\n",
              "        .catch(showError)\n",
              "        .then(() => displayChart(vegaEmbed));\n",
              "    }\n",
              "  })({\"config\": {\"view\": {\"continuousWidth\": 400, \"continuousHeight\": 300}}, \"data\": {\"name\": \"data-a929cea761ff843df547081b597fe8fb\"}, \"mark\": \"bar\", \"encoding\": {\"tooltip\": [{\"field\": \"Pais\", \"type\": \"nominal\"}, {\"field\": \"Total\", \"type\": \"quantitative\"}], \"x\": {\"field\": \"Total\", \"type\": \"quantitative\"}, \"y\": {\"field\": \"Pais\", \"sort\": \"-x\", \"type\": \"nominal\"}}, \"height\": {\"step\": 20}, \"width\": 600, \"$schema\": \"https://vega.github.io/schema/vega-lite/v4.17.0.json\", \"datasets\": {\"data-a929cea761ff843df547081b597fe8fb\": [{\"Pais\": \"Colombia\", \"Total\": 2875528}, {\"Pais\": \"Per\\u00fa\", \"Total\": 1542004}, {\"Pais\": \"Brasil\", \"Total\": 568058}, {\"Pais\": \"Chile\", \"Total\": 532715}, {\"Pais\": \"Ecuador\", \"Total\": 444778}, {\"Pais\": \"Rep. Dominicana\", \"Total\": 438380}, {\"Pais\": \"Argentina\", \"Total\": 164024}, {\"Pais\": \"M\\u00e9xico\", \"Total\": 124041}, {\"Pais\": \"Panam\\u00e1\", \"Total\": 113108}, {\"Pais\": \"Uruguay\", \"Total\": 58158}]}}, {\"mode\": \"vega-lite\"});\n",
              "</script>"
            ],
            "text/plain": [
              "alt.Chart(...)"
            ]
          },
          "metadata": {}
        }
      ]
    }
  ]
}