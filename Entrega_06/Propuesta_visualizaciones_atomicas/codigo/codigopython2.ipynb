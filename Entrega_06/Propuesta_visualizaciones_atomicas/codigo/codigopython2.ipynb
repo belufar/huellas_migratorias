{
  "nbformat": 4,
  "nbformat_minor": 0,
  "metadata": {
    "colab": {
      "provenance": []
    },
    "kernelspec": {
      "name": "python3",
      "display_name": "Python 3"
    },
    "language_info": {
      "name": "python"
    }
  },
  "cells": [
    {
      "cell_type": "code",
      "execution_count": null,
      "metadata": {
        "colab": {
          "base_uri": "https://localhost:8080/",
          "height": 263
        },
        "id": "LmQO_9msoFCA",
        "outputId": "b91add80-f328-4e73-fd7d-532cd79f1be6"
      },
      "outputs": [
        {
          "output_type": "display_data",
          "data": {
            "text/html": [
              "\n",
              "<div id=\"altair-viz-88d651ebc87a48958832d5fc0b6e8b9c\"></div>\n",
              "<script type=\"text/javascript\">\n",
              "  var VEGA_DEBUG = (typeof VEGA_DEBUG == \"undefined\") ? {} : VEGA_DEBUG;\n",
              "  (function(spec, embedOpt){\n",
              "    let outputDiv = document.currentScript.previousElementSibling;\n",
              "    if (outputDiv.id !== \"altair-viz-88d651ebc87a48958832d5fc0b6e8b9c\") {\n",
              "      outputDiv = document.getElementById(\"altair-viz-88d651ebc87a48958832d5fc0b6e8b9c\");\n",
              "    }\n",
              "    const paths = {\n",
              "      \"vega\": \"https://cdn.jsdelivr.net/npm//vega@5?noext\",\n",
              "      \"vega-lib\": \"https://cdn.jsdelivr.net/npm//vega-lib?noext\",\n",
              "      \"vega-lite\": \"https://cdn.jsdelivr.net/npm//vega-lite@4.17.0?noext\",\n",
              "      \"vega-embed\": \"https://cdn.jsdelivr.net/npm//vega-embed@6?noext\",\n",
              "    };\n",
              "\n",
              "    function maybeLoadScript(lib, version) {\n",
              "      var key = `${lib.replace(\"-\", \"\")}_version`;\n",
              "      return (VEGA_DEBUG[key] == version) ?\n",
              "        Promise.resolve(paths[lib]) :\n",
              "        new Promise(function(resolve, reject) {\n",
              "          var s = document.createElement('script');\n",
              "          document.getElementsByTagName(\"head\")[0].appendChild(s);\n",
              "          s.async = true;\n",
              "          s.onload = () => {\n",
              "            VEGA_DEBUG[key] = version;\n",
              "            return resolve(paths[lib]);\n",
              "          };\n",
              "          s.onerror = () => reject(`Error loading script: ${paths[lib]}`);\n",
              "          s.src = paths[lib];\n",
              "        });\n",
              "    }\n",
              "\n",
              "    function showError(err) {\n",
              "      outputDiv.innerHTML = `<div class=\"error\" style=\"color:red;\">${err}</div>`;\n",
              "      throw err;\n",
              "    }\n",
              "\n",
              "    function displayChart(vegaEmbed) {\n",
              "      vegaEmbed(outputDiv, spec, embedOpt)\n",
              "        .catch(err => showError(`Javascript Error: ${err.message}<br>This usually means there's a typo in your chart specification. See the javascript console for the full traceback.`));\n",
              "    }\n",
              "\n",
              "    if(typeof define === \"function\" && define.amd) {\n",
              "      requirejs.config({paths});\n",
              "      require([\"vega-embed\"], displayChart, err => showError(`Error loading script: ${err.message}`));\n",
              "    } else {\n",
              "      maybeLoadScript(\"vega\", \"5\")\n",
              "        .then(() => maybeLoadScript(\"vega-lite\", \"4.17.0\"))\n",
              "        .then(() => maybeLoadScript(\"vega-embed\", \"6\"))\n",
              "        .catch(showError)\n",
              "        .then(() => displayChart(vegaEmbed));\n",
              "    }\n",
              "  })({\"config\": {\"view\": {\"continuousWidth\": 400, \"continuousHeight\": 300}}, \"data\": {\"name\": \"data-a929cea761ff843df547081b597fe8fb\"}, \"mark\": \"bar\", \"encoding\": {\"tooltip\": [{\"field\": \"Pais\", \"type\": \"nominal\"}, {\"field\": \"Total\", \"type\": \"quantitative\"}], \"x\": {\"field\": \"Total\", \"type\": \"quantitative\"}, \"y\": {\"field\": \"Pais\", \"sort\": \"-x\", \"type\": \"nominal\"}}, \"height\": {\"step\": 20}, \"width\": 600, \"$schema\": \"https://vega.github.io/schema/vega-lite/v4.17.0.json\", \"datasets\": {\"data-a929cea761ff843df547081b597fe8fb\": [{\"Pais\": \"Colombia\", \"Total\": 2875528}, {\"Pais\": \"Per\\u00fa\", \"Total\": 1542004}, {\"Pais\": \"Brasil\", \"Total\": 568058}, {\"Pais\": \"Chile\", \"Total\": 532715}, {\"Pais\": \"Ecuador\", \"Total\": 444778}, {\"Pais\": \"Rep. Dominicana\", \"Total\": 438380}, {\"Pais\": \"Argentina\", \"Total\": 164024}, {\"Pais\": \"M\\u00e9xico\", \"Total\": 124041}, {\"Pais\": \"Panam\\u00e1\", \"Total\": 113108}, {\"Pais\": \"Uruguay\", \"Total\": 58158}]}}, {\"mode\": \"vega-lite\"});\n",
              "</script>"
            ],
            "text/plain": [
              "alt.Chart(...)"
            ]
          },
          "metadata": {}
        }
      ],
      "source": [
        "import pandas as pd\n",
        "import altair as alt\n",
        "\n",
        "# Crear un DataFrame con los datos\n",
        "datos = {\n",
        "    'Pais': ['Colombia', 'Perú', 'Brasil', 'Chile', 'Ecuador', 'Argentina', 'Rep. Dominicana', 'México', 'Panamá', 'Uruguay'],\n",
        "    'Total': [2875528, 1542004, 568058, 532715, 444778, 164024, 438380, 124041, 113108, 58158]\n",
        "}\n",
        "\n",
        "df = pd.DataFrame(datos)\n",
        "\n",
        "# Ordenar el DataFrame por el número total de emigrantes\n",
        "df = df.sort_values(by='Total', ascending=False)\n",
        "\n",
        "# Crear el gráfico de barras horizontal\n",
        "grafico = alt.Chart(df).mark_bar().encode(\n",
        "    x='Total:Q',\n",
        "    y=alt.Y('Pais:N', sort='-x'),  # Ordenar los países por el número de emigrantes\n",
        "    tooltip=['Pais:N', 'Total:Q']   # Mostrar tooltips con información adicional\n",
        ").properties(\n",
        "    width=600,\n",
        "    height=alt.Step(20)  # Ajustar la altura de las barras\n",
        ")\n",
        "\n",
        "grafico.save('grafico_emigrantes.html')  # Guardar el gráfico en un archivo HTML\n",
        "\n",
        "# Mostrar el gráfico\n",
        "grafico.display()\n"
      ]
    },
    {
      "cell_type": "code",
      "source": [],
      "metadata": {
        "id": "kJ0iTnKCjUeT"
      },
      "execution_count": null,
      "outputs": []
    },
    {
      "cell_type": "code",
      "source": [
        "import altair as alt\n",
        "import pandas as pd\n",
        "from IPython.display import HTML\n",
        "\n",
        "# Crear un DataFrame con los datos proporcionados\n",
        "data = {\n",
        "    \"Región\": [\"Arica y Parinacota\", \"Antofagasta\", \"Atacama\", \"Coquimbo\", \"Valparaíso\", \"Metropolitana\",\n",
        "               \"O'Higgins\", \"Maule\", \"Ñuble\", \"Biobío\", \"La Araucanía\", \"Los Ríos\", \"Los Lagos\", \"Aysén\",\n",
        "               \"Magallanes y Antártica\", \"Ignorada\"],\n",
        "    \"Venezuela\": [0.5, 1.8, 0.6, 2.1, 6.6, 59.6, 2.8, 2.9, 0.9, 3.4, 1.1, 0.5, 2.2, 0.1, 0.5, 13.2],\n",
        "    \"Otras Nacionalidades\": [2.6, 9.2, 1.6, 2.3, 5.9, 56.9, 2.9, 2.4, 0.7, 1.7, 1.5, 0.5, 1.6, 0.3, 0.7, 3]\n",
        "}\n",
        "df = pd.DataFrame(data)\n",
        "\n",
        "# Convertir los datos de 'Región' en formato largo (long) para usarlos en el gráfico\n",
        "df_long = df.melt(id_vars='Región', var_name='Nacionalidad', value_name='Número de Inmigrantes')\n",
        "\n",
        "# Crear el gráfico de barras\n",
        "chart = alt.Chart(df_long).mark_bar().encode(\n",
        "    x=alt.X(\"Región:N\", title=\"Región\"),\n",
        "    y=alt.Y(\"Número de Inmigrantes:Q\", title=\"Número de Inmigrantes\"),\n",
        "    color=alt.Color(\"Nacionalidad:N\", scale=alt.Scale(domain=[\"Venezuela\", \"Otras Nacionalidades\"], range=['#1f77b4', '#ff7f0e']))\n",
        ").properties(\n",
        "    title=\"Comparación de inmigrantes por región: Venezuela vs Otras Nacionalidades\"\n",
        ").configure_axis(\n",
        "    labelFontSize=12,\n",
        "    titleFontSize=14\n",
        ")\n",
        "\n",
        "# Renderizar el gráfico como HTML\n",
        "html_chart = chart.to_html()\n",
        "\n",
        "# Mostrar el gráfico en la salida de la celda\n",
        "HTML(html_chart)\n",
        "\n"
      ],
      "metadata": {
        "colab": {
          "base_uri": "https://localhost:8080/",
          "height": 501
        },
        "id": "RlhR3wavy2YN",
        "outputId": "de93ea65-8e1a-447e-c056-ab649ca4f0fd"
      },
      "execution_count": null,
      "outputs": [
        {
          "output_type": "execute_result",
          "data": {
            "text/plain": [
              "<IPython.core.display.HTML object>"
            ],
            "text/html": [
              "<!DOCTYPE html>\n",
              "<html>\n",
              "<head>\n",
              "  <style>\n",
              "    .error {\n",
              "        color: red;\n",
              "    }\n",
              "  </style>\n",
              "  <script type=\"text/javascript\" src=\"https://cdn.jsdelivr.net/npm//vega@5\"></script>\n",
              "  <script type=\"text/javascript\" src=\"https://cdn.jsdelivr.net/npm//vega-lite@4.17.0\"></script>\n",
              "  <script type=\"text/javascript\" src=\"https://cdn.jsdelivr.net/npm//vega-embed@6\"></script>\n",
              "</head>\n",
              "<body>\n",
              "  <div id=\"vis\"></div>\n",
              "  <script>\n",
              "    (function(vegaEmbed) {\n",
              "      var spec = {\"config\": {\"view\": {\"continuousWidth\": 400, \"continuousHeight\": 300}, \"axis\": {\"labelFontSize\": 12, \"titleFontSize\": 14}}, \"data\": {\"name\": \"data-5e08135467229990414ff81d072a9e45\"}, \"mark\": \"bar\", \"encoding\": {\"color\": {\"field\": \"Nacionalidad\", \"scale\": {\"domain\": [\"Venezuela\", \"Otras Nacionalidades\"], \"range\": [\"#1f77b4\", \"#ff7f0e\"]}, \"type\": \"nominal\"}, \"x\": {\"field\": \"Regi\\u00f3n\", \"title\": \"Regi\\u00f3n\", \"type\": \"nominal\"}, \"y\": {\"field\": \"N\\u00famero de Inmigrantes\", \"title\": \"N\\u00famero de Inmigrantes\", \"type\": \"quantitative\"}}, \"title\": \"Comparaci\\u00f3n de inmigrantes por regi\\u00f3n: Venezuela vs Otras Nacionalidades\", \"$schema\": \"https://vega.github.io/schema/vega-lite/v4.17.0.json\", \"datasets\": {\"data-5e08135467229990414ff81d072a9e45\": [{\"Regi\\u00f3n\": \"Arica y Parinacota\", \"Nacionalidad\": \"Venezuela\", \"N\\u00famero de Inmigrantes\": 0.5}, {\"Regi\\u00f3n\": \"Antofagasta\", \"Nacionalidad\": \"Venezuela\", \"N\\u00famero de Inmigrantes\": 1.8}, {\"Regi\\u00f3n\": \"Atacama\", \"Nacionalidad\": \"Venezuela\", \"N\\u00famero de Inmigrantes\": 0.6}, {\"Regi\\u00f3n\": \"Coquimbo\", \"Nacionalidad\": \"Venezuela\", \"N\\u00famero de Inmigrantes\": 2.1}, {\"Regi\\u00f3n\": \"Valpara\\u00edso\", \"Nacionalidad\": \"Venezuela\", \"N\\u00famero de Inmigrantes\": 6.6}, {\"Regi\\u00f3n\": \"Metropolitana\", \"Nacionalidad\": \"Venezuela\", \"N\\u00famero de Inmigrantes\": 59.6}, {\"Regi\\u00f3n\": \"O'Higgins\", \"Nacionalidad\": \"Venezuela\", \"N\\u00famero de Inmigrantes\": 2.8}, {\"Regi\\u00f3n\": \"Maule\", \"Nacionalidad\": \"Venezuela\", \"N\\u00famero de Inmigrantes\": 2.9}, {\"Regi\\u00f3n\": \"\\u00d1uble\", \"Nacionalidad\": \"Venezuela\", \"N\\u00famero de Inmigrantes\": 0.9}, {\"Regi\\u00f3n\": \"Biob\\u00edo\", \"Nacionalidad\": \"Venezuela\", \"N\\u00famero de Inmigrantes\": 3.4}, {\"Regi\\u00f3n\": \"La Araucan\\u00eda\", \"Nacionalidad\": \"Venezuela\", \"N\\u00famero de Inmigrantes\": 1.1}, {\"Regi\\u00f3n\": \"Los R\\u00edos\", \"Nacionalidad\": \"Venezuela\", \"N\\u00famero de Inmigrantes\": 0.5}, {\"Regi\\u00f3n\": \"Los Lagos\", \"Nacionalidad\": \"Venezuela\", \"N\\u00famero de Inmigrantes\": 2.2}, {\"Regi\\u00f3n\": \"Ays\\u00e9n\", \"Nacionalidad\": \"Venezuela\", \"N\\u00famero de Inmigrantes\": 0.1}, {\"Regi\\u00f3n\": \"Magallanes y Ant\\u00e1rtica\", \"Nacionalidad\": \"Venezuela\", \"N\\u00famero de Inmigrantes\": 0.5}, {\"Regi\\u00f3n\": \"Ignorada\", \"Nacionalidad\": \"Venezuela\", \"N\\u00famero de Inmigrantes\": 13.2}, {\"Regi\\u00f3n\": \"Arica y Parinacota\", \"Nacionalidad\": \"Otras Nacionalidades\", \"N\\u00famero de Inmigrantes\": 2.6}, {\"Regi\\u00f3n\": \"Antofagasta\", \"Nacionalidad\": \"Otras Nacionalidades\", \"N\\u00famero de Inmigrantes\": 9.2}, {\"Regi\\u00f3n\": \"Atacama\", \"Nacionalidad\": \"Otras Nacionalidades\", \"N\\u00famero de Inmigrantes\": 1.6}, {\"Regi\\u00f3n\": \"Coquimbo\", \"Nacionalidad\": \"Otras Nacionalidades\", \"N\\u00famero de Inmigrantes\": 2.3}, {\"Regi\\u00f3n\": \"Valpara\\u00edso\", \"Nacionalidad\": \"Otras Nacionalidades\", \"N\\u00famero de Inmigrantes\": 5.9}, {\"Regi\\u00f3n\": \"Metropolitana\", \"Nacionalidad\": \"Otras Nacionalidades\", \"N\\u00famero de Inmigrantes\": 56.9}, {\"Regi\\u00f3n\": \"O'Higgins\", \"Nacionalidad\": \"Otras Nacionalidades\", \"N\\u00famero de Inmigrantes\": 2.9}, {\"Regi\\u00f3n\": \"Maule\", \"Nacionalidad\": \"Otras Nacionalidades\", \"N\\u00famero de Inmigrantes\": 2.4}, {\"Regi\\u00f3n\": \"\\u00d1uble\", \"Nacionalidad\": \"Otras Nacionalidades\", \"N\\u00famero de Inmigrantes\": 0.7}, {\"Regi\\u00f3n\": \"Biob\\u00edo\", \"Nacionalidad\": \"Otras Nacionalidades\", \"N\\u00famero de Inmigrantes\": 1.7}, {\"Regi\\u00f3n\": \"La Araucan\\u00eda\", \"Nacionalidad\": \"Otras Nacionalidades\", \"N\\u00famero de Inmigrantes\": 1.5}, {\"Regi\\u00f3n\": \"Los R\\u00edos\", \"Nacionalidad\": \"Otras Nacionalidades\", \"N\\u00famero de Inmigrantes\": 0.5}, {\"Regi\\u00f3n\": \"Los Lagos\", \"Nacionalidad\": \"Otras Nacionalidades\", \"N\\u00famero de Inmigrantes\": 1.6}, {\"Regi\\u00f3n\": \"Ays\\u00e9n\", \"Nacionalidad\": \"Otras Nacionalidades\", \"N\\u00famero de Inmigrantes\": 0.3}, {\"Regi\\u00f3n\": \"Magallanes y Ant\\u00e1rtica\", \"Nacionalidad\": \"Otras Nacionalidades\", \"N\\u00famero de Inmigrantes\": 0.7}, {\"Regi\\u00f3n\": \"Ignorada\", \"Nacionalidad\": \"Otras Nacionalidades\", \"N\\u00famero de Inmigrantes\": 3.0}]}};\n",
              "      var embedOpt = {\"mode\": \"vega-lite\"};\n",
              "\n",
              "      function showError(el, error){\n",
              "          el.innerHTML = ('<div class=\"error\" style=\"color:red;\">'\n",
              "                          + '<p>JavaScript Error: ' + error.message + '</p>'\n",
              "                          + \"<p>This usually means there's a typo in your chart specification. \"\n",
              "                          + \"See the javascript console for the full traceback.</p>\"\n",
              "                          + '</div>');\n",
              "          throw error;\n",
              "      }\n",
              "      const el = document.getElementById('vis');\n",
              "      vegaEmbed(\"#vis\", spec, embedOpt)\n",
              "        .catch(error => showError(el, error));\n",
              "    })(vegaEmbed);\n",
              "\n",
              "  </script>\n",
              "</body>\n",
              "</html>"
            ]
          },
          "metadata": {},
          "execution_count": 70
        }
      ]
    },
    {
      "cell_type": "code",
      "source": [
        "import pandas as pd\n",
        "import altair as alt\n",
        "\n",
        "#creación de dataframe\n",
        "data = {\n",
        "    \"Razón para dejar país de origen\": [\n",
        "        \"Falta de oportunidades laborales\",\n",
        "        \"Crísis económica del país\",\n",
        "        \"Motivos Familiares\",\n",
        "        \"Incremento del crimen, violencia e inseguridad\"\n",
        "    ],\n",
        "    \"Bolivia\": [51, 19, 12, 2],\n",
        "    \"Colombia\": [38, 25, 12, 9],\n",
        "    \"Haití\": [36, 24, 4, 20],\n",
        "    \"Perú\": [45, 15, 20, 1],\n",
        "    \"Venezuela\": [12, 49, 4, 14],\n",
        "    \"Otros\": [28, 17, 21, 4],\n",
        "    \"Total\": [26, 34, 9, 12]\n",
        "}\n",
        "\n",
        "df = pd.DataFrame(data)\n",
        "\n",
        "#conversión de datos a altair\n",
        "df_long = df.melt(id_vars=\"Razón para dejar país de origen\", var_name=\"País\", value_name=\"Cantidad\")\n",
        "\n",
        "#orden de paises\n",
        "custom_order = ['Bolivia', 'Colombia', 'Haití', 'Perú', 'Venezuela', 'Otros', 'Total']\n",
        "df_long['País'] = pd.Categorical(df_long['País'], categories=custom_order, ordered=True)\n",
        "\n",
        "#creación del gráfico\n",
        "chart = alt.Chart(df_long).mark_bar().encode(\n",
        "    y=alt.Y('País:N', sort=custom_order),\n",
        "    x='Cantidad:Q',\n",
        "    color='Razón para dejar país de origen:N'\n",
        ")\n",
        "\n",
        "#visualización del gráfico\n",
        "chart.display()\n",
        "\n",
        "# Guardar el gráfico como archivo HTML\n",
        "html_file = '/content/drive/My Drive/PYTHON/graficoanelisse.html'\n",
        "chart.save(html_file)\n",
        "\n",
        "print(f\"Gráfico guardado correctamente en {html_file}\")"
      ],
      "metadata": {
        "colab": {
          "base_uri": "https://localhost:8080/",
          "height": 221
        },
        "id": "Xg5VBPX3s2eX",
        "outputId": "cb352cf2-3076-47a8-9b08-a1d88e51a916"
      },
      "execution_count": 17,
      "outputs": [
        {
          "output_type": "display_data",
          "data": {
            "text/html": [
              "\n",
              "<div id=\"altair-viz-7d26b90b141040ff8d1a08be743e4c12\"></div>\n",
              "<script type=\"text/javascript\">\n",
              "  var VEGA_DEBUG = (typeof VEGA_DEBUG == \"undefined\") ? {} : VEGA_DEBUG;\n",
              "  (function(spec, embedOpt){\n",
              "    let outputDiv = document.currentScript.previousElementSibling;\n",
              "    if (outputDiv.id !== \"altair-viz-7d26b90b141040ff8d1a08be743e4c12\") {\n",
              "      outputDiv = document.getElementById(\"altair-viz-7d26b90b141040ff8d1a08be743e4c12\");\n",
              "    }\n",
              "    const paths = {\n",
              "      \"vega\": \"https://cdn.jsdelivr.net/npm//vega@5?noext\",\n",
              "      \"vega-lib\": \"https://cdn.jsdelivr.net/npm//vega-lib?noext\",\n",
              "      \"vega-lite\": \"https://cdn.jsdelivr.net/npm//vega-lite@4.17.0?noext\",\n",
              "      \"vega-embed\": \"https://cdn.jsdelivr.net/npm//vega-embed@6?noext\",\n",
              "    };\n",
              "\n",
              "    function maybeLoadScript(lib, version) {\n",
              "      var key = `${lib.replace(\"-\", \"\")}_version`;\n",
              "      return (VEGA_DEBUG[key] == version) ?\n",
              "        Promise.resolve(paths[lib]) :\n",
              "        new Promise(function(resolve, reject) {\n",
              "          var s = document.createElement('script');\n",
              "          document.getElementsByTagName(\"head\")[0].appendChild(s);\n",
              "          s.async = true;\n",
              "          s.onload = () => {\n",
              "            VEGA_DEBUG[key] = version;\n",
              "            return resolve(paths[lib]);\n",
              "          };\n",
              "          s.onerror = () => reject(`Error loading script: ${paths[lib]}`);\n",
              "          s.src = paths[lib];\n",
              "        });\n",
              "    }\n",
              "\n",
              "    function showError(err) {\n",
              "      outputDiv.innerHTML = `<div class=\"error\" style=\"color:red;\">${err}</div>`;\n",
              "      throw err;\n",
              "    }\n",
              "\n",
              "    function displayChart(vegaEmbed) {\n",
              "      vegaEmbed(outputDiv, spec, embedOpt)\n",
              "        .catch(err => showError(`Javascript Error: ${err.message}<br>This usually means there's a typo in your chart specification. See the javascript console for the full traceback.`));\n",
              "    }\n",
              "\n",
              "    if(typeof define === \"function\" && define.amd) {\n",
              "      requirejs.config({paths});\n",
              "      require([\"vega-embed\"], displayChart, err => showError(`Error loading script: ${err.message}`));\n",
              "    } else {\n",
              "      maybeLoadScript(\"vega\", \"5\")\n",
              "        .then(() => maybeLoadScript(\"vega-lite\", \"4.17.0\"))\n",
              "        .then(() => maybeLoadScript(\"vega-embed\", \"6\"))\n",
              "        .catch(showError)\n",
              "        .then(() => displayChart(vegaEmbed));\n",
              "    }\n",
              "  })({\"config\": {\"view\": {\"continuousWidth\": 400, \"continuousHeight\": 300}}, \"data\": {\"name\": \"data-99ff1ce7f1faabf6cf14c7ece0c26b9f\"}, \"mark\": \"bar\", \"encoding\": {\"color\": {\"field\": \"Raz\\u00f3n para dejar pa\\u00eds de origen\", \"type\": \"nominal\"}, \"x\": {\"field\": \"Cantidad\", \"type\": \"quantitative\"}, \"y\": {\"field\": \"Pa\\u00eds\", \"sort\": [\"Bolivia\", \"Colombia\", \"Hait\\u00ed\", \"Per\\u00fa\", \"Venezuela\", \"Otros\", \"Total\"], \"type\": \"nominal\"}}, \"$schema\": \"https://vega.github.io/schema/vega-lite/v4.17.0.json\", \"datasets\": {\"data-99ff1ce7f1faabf6cf14c7ece0c26b9f\": [{\"Raz\\u00f3n para dejar pa\\u00eds de origen\": \"Falta de oportunidades laborales\", \"Pa\\u00eds\": \"Bolivia\", \"Cantidad\": 51}, {\"Raz\\u00f3n para dejar pa\\u00eds de origen\": \"Cr\\u00edsis econ\\u00f3mica del pa\\u00eds\", \"Pa\\u00eds\": \"Bolivia\", \"Cantidad\": 19}, {\"Raz\\u00f3n para dejar pa\\u00eds de origen\": \"Motivos Familiares\", \"Pa\\u00eds\": \"Bolivia\", \"Cantidad\": 12}, {\"Raz\\u00f3n para dejar pa\\u00eds de origen\": \"Incremento del crimen, violencia e inseguridad\", \"Pa\\u00eds\": \"Bolivia\", \"Cantidad\": 2}, {\"Raz\\u00f3n para dejar pa\\u00eds de origen\": \"Falta de oportunidades laborales\", \"Pa\\u00eds\": \"Colombia\", \"Cantidad\": 38}, {\"Raz\\u00f3n para dejar pa\\u00eds de origen\": \"Cr\\u00edsis econ\\u00f3mica del pa\\u00eds\", \"Pa\\u00eds\": \"Colombia\", \"Cantidad\": 25}, {\"Raz\\u00f3n para dejar pa\\u00eds de origen\": \"Motivos Familiares\", \"Pa\\u00eds\": \"Colombia\", \"Cantidad\": 12}, {\"Raz\\u00f3n para dejar pa\\u00eds de origen\": \"Incremento del crimen, violencia e inseguridad\", \"Pa\\u00eds\": \"Colombia\", \"Cantidad\": 9}, {\"Raz\\u00f3n para dejar pa\\u00eds de origen\": \"Falta de oportunidades laborales\", \"Pa\\u00eds\": \"Hait\\u00ed\", \"Cantidad\": 36}, {\"Raz\\u00f3n para dejar pa\\u00eds de origen\": \"Cr\\u00edsis econ\\u00f3mica del pa\\u00eds\", \"Pa\\u00eds\": \"Hait\\u00ed\", \"Cantidad\": 24}, {\"Raz\\u00f3n para dejar pa\\u00eds de origen\": \"Motivos Familiares\", \"Pa\\u00eds\": \"Hait\\u00ed\", \"Cantidad\": 4}, {\"Raz\\u00f3n para dejar pa\\u00eds de origen\": \"Incremento del crimen, violencia e inseguridad\", \"Pa\\u00eds\": \"Hait\\u00ed\", \"Cantidad\": 20}, {\"Raz\\u00f3n para dejar pa\\u00eds de origen\": \"Falta de oportunidades laborales\", \"Pa\\u00eds\": \"Per\\u00fa\", \"Cantidad\": 45}, {\"Raz\\u00f3n para dejar pa\\u00eds de origen\": \"Cr\\u00edsis econ\\u00f3mica del pa\\u00eds\", \"Pa\\u00eds\": \"Per\\u00fa\", \"Cantidad\": 15}, {\"Raz\\u00f3n para dejar pa\\u00eds de origen\": \"Motivos Familiares\", \"Pa\\u00eds\": \"Per\\u00fa\", \"Cantidad\": 20}, {\"Raz\\u00f3n para dejar pa\\u00eds de origen\": \"Incremento del crimen, violencia e inseguridad\", \"Pa\\u00eds\": \"Per\\u00fa\", \"Cantidad\": 1}, {\"Raz\\u00f3n para dejar pa\\u00eds de origen\": \"Falta de oportunidades laborales\", \"Pa\\u00eds\": \"Venezuela\", \"Cantidad\": 12}, {\"Raz\\u00f3n para dejar pa\\u00eds de origen\": \"Cr\\u00edsis econ\\u00f3mica del pa\\u00eds\", \"Pa\\u00eds\": \"Venezuela\", \"Cantidad\": 49}, {\"Raz\\u00f3n para dejar pa\\u00eds de origen\": \"Motivos Familiares\", \"Pa\\u00eds\": \"Venezuela\", \"Cantidad\": 4}, {\"Raz\\u00f3n para dejar pa\\u00eds de origen\": \"Incremento del crimen, violencia e inseguridad\", \"Pa\\u00eds\": \"Venezuela\", \"Cantidad\": 14}, {\"Raz\\u00f3n para dejar pa\\u00eds de origen\": \"Falta de oportunidades laborales\", \"Pa\\u00eds\": \"Otros\", \"Cantidad\": 28}, {\"Raz\\u00f3n para dejar pa\\u00eds de origen\": \"Cr\\u00edsis econ\\u00f3mica del pa\\u00eds\", \"Pa\\u00eds\": \"Otros\", \"Cantidad\": 17}, {\"Raz\\u00f3n para dejar pa\\u00eds de origen\": \"Motivos Familiares\", \"Pa\\u00eds\": \"Otros\", \"Cantidad\": 21}, {\"Raz\\u00f3n para dejar pa\\u00eds de origen\": \"Incremento del crimen, violencia e inseguridad\", \"Pa\\u00eds\": \"Otros\", \"Cantidad\": 4}, {\"Raz\\u00f3n para dejar pa\\u00eds de origen\": \"Falta de oportunidades laborales\", \"Pa\\u00eds\": \"Total\", \"Cantidad\": 26}, {\"Raz\\u00f3n para dejar pa\\u00eds de origen\": \"Cr\\u00edsis econ\\u00f3mica del pa\\u00eds\", \"Pa\\u00eds\": \"Total\", \"Cantidad\": 34}, {\"Raz\\u00f3n para dejar pa\\u00eds de origen\": \"Motivos Familiares\", \"Pa\\u00eds\": \"Total\", \"Cantidad\": 9}, {\"Raz\\u00f3n para dejar pa\\u00eds de origen\": \"Incremento del crimen, violencia e inseguridad\", \"Pa\\u00eds\": \"Total\", \"Cantidad\": 12}]}}, {\"mode\": \"vega-lite\"});\n",
              "</script>"
            ],
            "text/plain": [
              "alt.Chart(...)"
            ]
          },
          "metadata": {}
        },
        {
          "output_type": "stream",
          "name": "stdout",
          "text": [
            "Gráfico guardado correctamente en /content/drive/My Drive/PYTHON/graficoanelisse.html\n"
          ]
        }
      ]
    }
  ]
}