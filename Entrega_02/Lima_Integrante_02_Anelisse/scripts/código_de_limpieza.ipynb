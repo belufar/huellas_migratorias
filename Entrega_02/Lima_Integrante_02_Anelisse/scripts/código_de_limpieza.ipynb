{
  "nbformat": 4,
  "nbformat_minor": 0,
  "metadata": {
    "colab": {
      "provenance": []
    },
    "kernelspec": {
      "name": "python3",
      "display_name": "Python 3"
    },
    "language_info": {
      "name": "python"
    }
  },
  "cells": [
    {
      "cell_type": "code",
      "execution_count": 6,
      "metadata": {
        "colab": {
          "base_uri": "https://localhost:8080/"
        },
        "id": "OHz-YZjvq8b_",
        "outputId": "9f62ef0e-b90b-486a-aafc-8625770cf5ab"
      },
      "outputs": [
        {
          "output_type": "stream",
          "name": "stdout",
          "text": [
            "Mounted at /content/drive\n"
          ]
        }
      ],
      "source": [
        "from google.colab import drive\n",
        "drive.mount('/content/drive')"
      ]
    },
    {
      "cell_type": "code",
      "source": [
        "import pandas as pd\n",
        "\n",
        "\n",
        "file_path = '/content/drive/MyDrive/Colab Notebooks/base-2022-regiones.csv'\n",
        "\n",
        "\n",
        "df = pd.read_csv(file_path, encoding='ISO-8859-1')\n",
        "\n",
        "print(df.head())"
      ],
      "metadata": {
        "colab": {
          "base_uri": "https://localhost:8080/"
        },
        "id": "30ZESURnw6lt",
        "outputId": "f1365f74-dcde-400f-e501-917a436a3a1c"
      },
      "execution_count": 10,
      "outputs": [
        {
          "output_type": "stream",
          "name": "stdout",
          "text": [
            "  SEXO     EDAD      PAIS  AÑO ESTIMACION  CODREGEO  \\\n",
            "0    H  00 A 04  ALEMANIA            2018         5   \n",
            "1    H  00 A 04  ALEMANIA            2018         6   \n",
            "2    H  00 A 04  ALEMANIA            2018         7   \n",
            "3    H  00 A 04  ALEMANIA            2018         9   \n",
            "4    H  00 A 04  ALEMANIA            2018        11   \n",
            "\n",
            "                      REGION  CENSO AJUSTADO  RRAA_REGULAR  RRAA_IRREGULAR  \\\n",
            "0                   COQUIMBO             2.0           NaN             NaN   \n",
            "1                 VALPARAÍSO             1.0           1.0             NaN   \n",
            "2  METROPOLITANA DE SANTIAGO            26.0           NaN             NaN   \n",
            "3                      MAULE             1.0           NaN             NaN   \n",
            "4                     BIOBÍO             2.0           NaN             NaN   \n",
            "\n",
            "   RRAA_TOTAL  ESTIMACION  \n",
            "0         NaN           2  \n",
            "1         1.0           2  \n",
            "2         NaN          26  \n",
            "3         NaN           1  \n",
            "4         NaN           2  \n"
          ]
        }
      ]
    },
    {
      "cell_type": "code",
      "source": [
        "print(df.describe())"
      ],
      "metadata": {
        "colab": {
          "base_uri": "https://localhost:8080/"
        },
        "id": "8icPBpR51n7Z",
        "outputId": "e694d3a8-ae68-4546-d09a-bc8dcf6cfa5c"
      },
      "execution_count": 11,
      "outputs": [
        {
          "output_type": "stream",
          "name": "stdout",
          "text": [
            "       AÑO ESTIMACION      CODREGEO  CENSO AJUSTADO  RRAA_REGULAR  \\\n",
            "count    51946.000000  51946.000000    45821.000000  34939.000000   \n",
            "mean      2020.009048      8.865283       85.381594     95.595152   \n",
            "std          1.411528      4.772844      500.518329    689.005733   \n",
            "min       2018.000000      1.000000        1.000000      1.000000   \n",
            "25%       2019.000000      5.000000        2.000000      2.000000   \n",
            "50%       2020.000000      9.000000        7.000000      5.000000   \n",
            "75%       2021.000000     13.000000       26.000000     24.000000   \n",
            "max       2022.000000     17.000000    10898.000000  25187.000000   \n",
            "\n",
            "       RRAA_IRREGULAR    RRAA_TOTAL    ESTIMACION  \n",
            "count    14032.000000  36334.000000  51946.000000  \n",
            "mean        15.229119     97.806297    143.725484  \n",
            "std        159.358925    691.345758    933.938417  \n",
            "min          1.000000      1.000000      1.000000  \n",
            "25%          1.000000      2.000000      3.000000  \n",
            "50%          2.000000      5.000000      9.000000  \n",
            "75%          5.000000     25.000000     41.000000  \n",
            "max       8381.000000  25312.000000  36210.000000  \n"
          ]
        }
      ]
    },
    {
      "cell_type": "code",
      "source": [
        "print(df.info())"
      ],
      "metadata": {
        "colab": {
          "base_uri": "https://localhost:8080/"
        },
        "id": "csuWw9K712SC",
        "outputId": "2da606aa-8444-4b91-b7e3-92ff60e28323"
      },
      "execution_count": 12,
      "outputs": [
        {
          "output_type": "stream",
          "name": "stdout",
          "text": [
            "<class 'pandas.core.frame.DataFrame'>\n",
            "RangeIndex: 51946 entries, 0 to 51945\n",
            "Data columns (total 11 columns):\n",
            " #   Column          Non-Null Count  Dtype  \n",
            "---  ------          --------------  -----  \n",
            " 0   SEXO            51946 non-null  object \n",
            " 1   EDAD            51946 non-null  object \n",
            " 2   PAIS            51946 non-null  object \n",
            " 3   AÑO ESTIMACION  51946 non-null  int64  \n",
            " 4   CODREGEO        51946 non-null  int64  \n",
            " 5   REGION          51946 non-null  object \n",
            " 6   CENSO AJUSTADO  45821 non-null  float64\n",
            " 7   RRAA_REGULAR    34939 non-null  float64\n",
            " 8   RRAA_IRREGULAR  14032 non-null  float64\n",
            " 9   RRAA_TOTAL      36334 non-null  float64\n",
            " 10  ESTIMACION      51946 non-null  int64  \n",
            "dtypes: float64(4), int64(3), object(4)\n",
            "memory usage: 4.4+ MB\n",
            "None\n"
          ]
        }
      ]
    },
    {
      "cell_type": "code",
      "source": [
        "print(df.isnull().sum())"
      ],
      "metadata": {
        "colab": {
          "base_uri": "https://localhost:8080/"
        },
        "id": "P4SUWQK01-o9",
        "outputId": "eda82e67-4f23-43f3-d3d0-36390f87dcb5"
      },
      "execution_count": 13,
      "outputs": [
        {
          "output_type": "stream",
          "name": "stdout",
          "text": [
            "SEXO                  0\n",
            "EDAD                  0\n",
            "PAIS                  0\n",
            "AÑO ESTIMACION        0\n",
            "CODREGEO              0\n",
            "REGION                0\n",
            "CENSO AJUSTADO     6125\n",
            "RRAA_REGULAR      17007\n",
            "RRAA_IRREGULAR    37914\n",
            "RRAA_TOTAL        15612\n",
            "ESTIMACION            0\n",
            "dtype: int64\n"
          ]
        }
      ]
    },
    {
      "cell_type": "code",
      "source": [
        "df_clean = df.dropna()"
      ],
      "metadata": {
        "id": "woPSThVB2Nw2"
      },
      "execution_count": 14,
      "outputs": []
    },
    {
      "cell_type": "code",
      "source": [
        "clean_file_path = '/content/drive/My Drive/Colab Notebooks/base-2022-regiones-limpio.csv'\n",
        "\n",
        "df_clean.to_csv(clean_file_path, index =False)"
      ],
      "metadata": {
        "id": "1us1ErnW9xxN"
      },
      "execution_count": 17,
      "outputs": []
    }
  ]
}